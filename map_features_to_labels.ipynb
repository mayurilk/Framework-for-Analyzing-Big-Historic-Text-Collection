{
 "cells": [
  {
   "cell_type": "code",
   "execution_count": 1,
   "metadata": {
    "collapsed": false
   },
   "outputs": [],
   "source": [
    "import os\n",
    "import glob\n",
    "import json\n",
    "import shutil\n",
    "import pickle\n",
    "import numpy as np\n",
    "from collections import Counter\n",
    "from sklearn.feature_extraction.text import TfidfVectorizer\n",
    "from sklearn.ensemble import RandomForestClassifier\n",
    "from sklearn.model_selection import cross_val_score"
   ]
  },
  {
   "cell_type": "code",
   "execution_count": 2,
   "metadata": {
    "collapsed": false
   },
   "outputs": [],
   "source": [
    "with open(\"files_to_labels.pkl\", 'rb') as f:\n",
    "    labels = pickle.load(f)\n",
    "    #[(page_id, label),(page_id1, label1)]"
   ]
  },
  {
   "cell_type": "code",
   "execution_count": 3,
   "metadata": {
    "collapsed": false
   },
   "outputs": [],
   "source": [
    "with open(\"files_to_features.pkl\", 'rb') as fp:\n",
    "    features = pickle.load(fp)\n",
    "     #[(page_id, feat1),(page_id1, feta2)]"
   ]
  },
  {
   "cell_type": "code",
   "execution_count": 4,
   "metadata": {
    "collapsed": false
   },
   "outputs": [],
   "source": [
    "def convert_lists_to_dicts(features,labels):\n",
    "    all_features ={}\n",
    "    for f in features:\n",
    "        all_features[f[0]] = f[1]\n",
    "\n",
    "    all_labels ={}\n",
    "    for l in labels:\n",
    "        all_labels[l[0]] = l[1]\n",
    "        \n",
    "    return all_features,all_labels"
   ]
  },
  {
   "cell_type": "code",
   "execution_count": 5,
   "metadata": {
    "collapsed": false
   },
   "outputs": [],
   "source": [
    "feature_dict,label_dict = convert_lists_to_dicts(features,labels)"
   ]
  },
  {
   "cell_type": "code",
   "execution_count": 6,
   "metadata": {
    "collapsed": false
   },
   "outputs": [
    {
     "name": "stdout",
     "output_type": "stream",
     "text": [
      "193675 24895\n"
     ]
    }
   ],
   "source": [
    "print(len(feature_dict),len(label_dict))"
   ]
  },
  {
   "cell_type": "code",
   "execution_count": 7,
   "metadata": {
    "collapsed": false
   },
   "outputs": [],
   "source": [
    "def map_feat_label(feat_dict, label_dict):\n",
    "    all_ids = feat_dict.keys()\n",
    "    mapping_feats_lables = []\n",
    "    test_feature_list =[]\n",
    "    for ids in all_ids:\n",
    "        if ids in label_dict.keys(): \n",
    "            mapping_feats_lables.append((feat_dict[ids], label_dict[ids]))\n",
    "        else:\n",
    "            test_feature_list.append((ids,feat_dict[ids]))\n",
    "            \n",
    "    return mapping_feats_lables,test_feature_list"
   ]
  },
  {
   "cell_type": "code",
   "execution_count": 8,
   "metadata": {
    "collapsed": true
   },
   "outputs": [],
   "source": [
    "mapping_feats_lables,test_feature_list = map_feat_label(feature_dict,label_dict)"
   ]
  },
  {
   "cell_type": "code",
   "execution_count": 9,
   "metadata": {
    "collapsed": true
   },
   "outputs": [],
   "source": [
    "with open('feat_label_mapping.pkl', 'wb') as fp1:\n",
    "    pickle.dump(mapping_feats_lables,fp1)\n",
    "    \n",
    "with open('test_features.pkl', 'wb') as fp2:\n",
    "    pickle.dump(test_feature_list,fp2)"
   ]
  },
  {
   "cell_type": "code",
   "execution_count": 10,
   "metadata": {
    "collapsed": false
   },
   "outputs": [],
   "source": [
    "with open('feat_label_mapping.pkl', 'rb') as fp3:\n",
    "    feat_to_labels = pickle.load(fp3)\n",
    "    feat_list=[]\n",
    "    label_list =[]\n",
    "    for f in feat_to_labels:\n",
    "        try:\n",
    "            feat_list.append(\" \".join(f[0]))\n",
    "            label_list.append(f[1])\n",
    "        except:\n",
    "            feat = f[0][1]\n",
    "            feat_list.append(\" \".join(feat))\n",
    "            label_list.append(f[1])"
   ]
  },
  {
   "cell_type": "code",
   "execution_count": 11,
   "metadata": {
    "collapsed": false
   },
   "outputs": [
    {
     "name": "stdout",
     "output_type": "stream",
     "text": [
      "24887 24887\n"
     ]
    }
   ],
   "source": [
    "print(len(feat_list), len(label_list))"
   ]
  },
  {
   "cell_type": "code",
   "execution_count": 12,
   "metadata": {
    "collapsed": false
   },
   "outputs": [],
   "source": [
    "with open('test_features.pkl', 'rb') as fp4:\n",
    "    test_list = pickle.load(fp4)\n",
    "    test_features_list=[]\n",
    "    test_id_list=[]\n",
    "    for t in test_list:\n",
    "        try:\n",
    "            test_features_list.append(\" \".join(t[1]))\n",
    "            test_id_list.append(t[0])\n",
    "        except:\n",
    "            feat = f[1][1]\n",
    "            test_features_list.append(\" \".join(feat))\n",
    "            test_id_list.append(t[0])"
   ]
  },
  {
   "cell_type": "code",
   "execution_count": 13,
   "metadata": {
    "collapsed": false
   },
   "outputs": [
    {
     "name": "stdout",
     "output_type": "stream",
     "text": [
      "168788 168788\n"
     ]
    }
   ],
   "source": [
    "print(len(test_features_list), len(test_id_list))"
   ]
  },
  {
   "cell_type": "code",
   "execution_count": 14,
   "metadata": {
    "collapsed": false
   },
   "outputs": [
    {
     "data": {
      "text/plain": [
       "193675"
      ]
     },
     "execution_count": 14,
     "metadata": {},
     "output_type": "execute_result"
    }
   ],
   "source": [
    "168788 + 24887"
   ]
  },
  {
   "cell_type": "code",
   "execution_count": 15,
   "metadata": {
    "collapsed": false
   },
   "outputs": [],
   "source": [
    "vec = TfidfVectorizer()\n",
    "X_train = vec.fit_transform(feat_list)\n",
    "Y_train = np.array(label_list)"
   ]
  },
  {
   "cell_type": "code",
   "execution_count": 16,
   "metadata": {
    "collapsed": false
   },
   "outputs": [
    {
     "name": "stdout",
     "output_type": "stream",
     "text": [
      "(24887, 159542)\n",
      "24887\n"
     ]
    }
   ],
   "source": [
    "print(X_train.shape)\n",
    "print(len(Y_train))"
   ]
  },
  {
   "cell_type": "code",
   "execution_count": 17,
   "metadata": {
    "collapsed": false
   },
   "outputs": [],
   "source": [
    "X_test = vec.transform(test_features_list)"
   ]
  },
  {
   "cell_type": "code",
   "execution_count": 18,
   "metadata": {
    "collapsed": false
   },
   "outputs": [
    {
     "name": "stdout",
     "output_type": "stream",
     "text": [
      "(168788, 159542)\n"
     ]
    }
   ],
   "source": [
    "print(X_test.shape)"
   ]
  },
  {
   "cell_type": "code",
   "execution_count": 19,
   "metadata": {
    "collapsed": false
   },
   "outputs": [],
   "source": [
    "clf = RandomForestClassifier(class_weight = 'balanced', random_state = 35)"
   ]
  },
  {
   "cell_type": "code",
   "execution_count": 20,
   "metadata": {
    "collapsed": false
   },
   "outputs": [
    {
     "name": "stderr",
     "output_type": "stream",
     "text": [
      "/Users/dan/anaconda/lib/python3.6/site-packages/sklearn/model_selection/_split.py:581: Warning: The least populated class in y has only 1 members, which is too few. The minimum number of groups for any class cannot be less than n_splits=5.\n",
      "  % (min_groups, self.n_splits)), Warning)\n"
     ]
    },
    {
     "name": "stdout",
     "output_type": "stream",
     "text": [
      "Average accuracy :  0.766229524802\n"
     ]
    }
   ],
   "source": [
    "acc = cross_val_score(clf,X_train,Y_train,cv=5)\n",
    "print(\"Average accuracy : \", np.mean(acc))"
   ]
  },
  {
   "cell_type": "code",
   "execution_count": 21,
   "metadata": {
    "collapsed": false
   },
   "outputs": [
    {
     "data": {
      "text/plain": [
       "RandomForestClassifier(bootstrap=True, class_weight='balanced',\n",
       "            criterion='gini', max_depth=None, max_features='auto',\n",
       "            max_leaf_nodes=None, min_impurity_split=1e-07,\n",
       "            min_samples_leaf=1, min_samples_split=2,\n",
       "            min_weight_fraction_leaf=0.0, n_estimators=10, n_jobs=1,\n",
       "            oob_score=False, random_state=35, verbose=0, warm_start=False)"
      ]
     },
     "execution_count": 21,
     "metadata": {},
     "output_type": "execute_result"
    }
   ],
   "source": [
    "clf.fit(X_train,Y_train)"
   ]
  },
  {
   "cell_type": "code",
   "execution_count": 22,
   "metadata": {
    "collapsed": true
   },
   "outputs": [],
   "source": [
    "feature_names = vec.get_feature_names()\n",
    "important_feats = clf.feature_importances_"
   ]
  },
  {
   "cell_type": "code",
   "execution_count": 23,
   "metadata": {
    "collapsed": false
   },
   "outputs": [
    {
     "name": "stdout",
     "output_type": "stream",
     "text": [
      "Most important features : \n",
      " [('chicago', 0.0055883690235963767), ('sociology', 0.0047990762269615531), ('chicago_school_', 0.0042778992659433098), ('chicago_school_of_economics', 0.0040032558643440267), ('chicago_school_of_music', 0.0029743516321472543), ('united_states', 0.0029360077598752617), ('george_stigler', 0.0028371114737791594), ('chicago_school_of_thought', 0.0027328835536785346), ('architecture', 0.0026421651747990165), ('chicago_school_of_education', 0.0025246865742262988), ('chicago_school_of_fiction', 0.0024978824721198275), ('_u', 0.0024698047118688433), ('social_work', 0.0023509573402903808), ('chicago_school_of_osteopaty', 0.0022047086567522117), ('band', 0.0021991333245796204), ('chicago_school_of_civics', 0.0021640750354588361), ('milton_friedman', 0.002150156470064992), ('massage', 0.0021450233560988893), ('black_books', 0.0020240539169649324), ('chicago_school_of_science', 0.0019558241722379237), ('chicago_school_of_design', 0.0019075918489202758), ('ge_capital_aviation_services', 0.0019063702963612234), ('seeman_', 0.0019023232633386389), ('chicago_school_of_pharmacy', 0.0018880822472754771), ('chicago_school_of_dentistry', 0.0018206427134655687), ('tv_series', 0.0017784175422649897), ('chicago_school_of_art', 0.0017451383204801726), ('chicago_school_of_anatomy', 0.0017387230828510365), ('comparative_method', 0.0017215359619126198), ('canton', 0.0016858285680658781), ('chicago_school_of_psychology', 0.0016723351193741521), ('chicago_architecture_foundation', 0.0016538153692277411), ('race_and_ethnicity_in_the_united_states_census', 0.001646126988098107), ('violin_making_and_maintenance', 0.0016261656013560031), ('physical_education', 0.0016234332474540356), ('mendelian_inheritance', 0.0016158341000644422), ('chicago_school_of_applied_and_normal_art', 0.0015915170988917715), ('john_dewey', 0.0015797369890398455), ('delos', 0.0015750584024932315), ('director', 0.0015099182935229053), ('wheeler_county', 0.0014952902157806336), ('richard_zeckhauser', 0.0014927955576725265), ('indigenous_peoples_of_the_americas', 0.0014900197142290986), ('new_york_city', 0.0014849945439950013), ('jans', 0.0014471085599155505), ('united_kingdom', 0.0014420248967403047), ('saint_paul', 0.0014139440162097446), ('dialectical_materialism', 0.0014065530620576883), ('pritzker_school_of_medicine', 0.0013947602520734646), ('painting', 0.0013781737992535736)]\n",
      "\n",
      "\n",
      "Least important features : \n",
      " [('ōkuma', 0.0), ('ōmori', 0.0), ('ōsato', 0.0), ('ōta', 0.0), ('ōtemachi', 0.0), ('œil', 0.0), ('œuvre', 0.0), ('œuvre_', 0.0), ('ślesin', 0.0), ('śliwa', 0.0), ('śāradā_script', 0.0), ('şalom', 0.0), ('şebnem_paker', 0.0), ('şile', 0.0), ('şuri', 0.0), ('şüşün', 0.0), ('şəlvə', 0.0), ('šalata', 0.0), ('šandor_alexander', 0.0), ('šentanel', 0.0), ('šipek', 0.0), ('škoda_14_t', 0.0), ('škrip', 0.0), ('štore', 0.0), ('štović', 0.0), ('šumera', 0.0), ('żaki', 0.0), ('żukowski', 0.0), ('žegar', 0.0), ('želiezovce', 0.0), ('žepa', 0.0), ('žirovnica', 0.0), ('žitný_ostrov', 0.0), ('žižkov', 0.0), ('žlne', 0.0), ('žur', 0.0), ('șandra', 0.0), ('șicula', 0.0), ('șoarș', 0.0), ('ștei', 0.0), ('șugag', 0.0), ('țaul', 0.0), ('ərçivan', 0.0), ('ərəb_qubalı', 0.0), ('ʻaiea', 0.0), ('ʻiolani_palace', 0.0), ('δ_transform', 0.0), ('κb', 0.0), ('ооо', 0.0), ('ṛtusaṃhāra', 0.0)]\n"
     ]
    }
   ],
   "source": [
    "feature_value_map = [x for x in zip(feature_names,important_feats)]\n",
    "feature_value_map.sort(key = lambda x : x[1],reverse = True)\n",
    "\n",
    "print(\"Most important features : \\n\",feature_value_map[:50])\n",
    "print(\"\\n\")\n",
    "print(\"Least important features : \\n\",feature_value_map[-50:])"
   ]
  },
  {
   "cell_type": "code",
   "execution_count": 24,
   "metadata": {
    "collapsed": false
   },
   "outputs": [
    {
     "name": "stdout",
     "output_type": "stream",
     "text": [
      "First 10 predicted values :  ['CS_UCS_Medicine' 'CS_UCS_Medicine' 'CS_UCS_Medicine' 'CS_Architecture'\n",
      " 'CS_Architecture' 'CS_Architecture' 'CS_UCS_Medicine' 'CS_UCS_Medicine'\n",
      " 'CS_UCS_Medicine' 'CS_UCS_Medicine']\n"
     ]
    }
   ],
   "source": [
    "predicted = clf.predict(X_test)\n",
    "print(\"First 10 predicted values : \", predicted[:10])"
   ]
  },
  {
   "cell_type": "code",
   "execution_count": 25,
   "metadata": {
    "collapsed": false
   },
   "outputs": [
    {
     "name": "stdout",
     "output_type": "stream",
     "text": [
      "['CS_1', 'CS_AICS_Drama__The_Drama', 'CS_AICS__Drama', 'CS_Advertising', 'CS_Anatomy', 'CS_Anthropology', 'CS_Anthropology__Social_Anthropology', 'CS_Anthropology__Symbolic_Anthropologists', 'CS_Anthropology__Symbolic_Interact', 'CS_Anthropology__Urban_Anthro', 'CS_Antitrust_Analysis', 'CS_Applied_And_Normal_Arts', 'CS_Applied_Art.', 'CS_Architects', 'CS_Architecture', 'CS_Architecture_Foundation', 'CS_Architecture__1880', 'CS_Architecture__American_architecture', 'CS_Architecture__Building', 'CS_Architecture__Burnham', 'CS_Architecture__Commercial_American_Arch', 'CS_Architecture__Commercial_Architecture', 'CS_Architecture__Commercial_Buildings', 'CS_Architecture__Commercial_Skyscraper__Design__Architecture__Commercial_Architects', 'CS_Architecture__Modern_A', 'CS_Architecture__Urban_Architecture', 'CS_Art', 'CS_Assaying', 'CS_Automatic_Transmission', 'CS_Aviation', 'CS_Ballet', 'CS_Baseball_Writing', 'CS_Beauty', 'CS_Behavioris.', 'CS_Biology', 'CS_Bookkeeping', 'CS_Broadcasting', 'CS_Business', 'CS_Business_Administration', 'CS_Chiropody', 'CS_Civics_And_Philanthropy', 'CS_Commerce', 'CS_Dental', 'CS_Dentistry', 'CS_Dept.', 'CS_Design', 'CS_Divinity', 'CS_DomesticScience', 'CS_Dramatic_Art', 'CS_Economic', 'CS_Economics__Becker', 'CS_Economics__Monetar', 'CS_Economics__Monetary_Economics', 'CS_Economics__Neoclassical_Economics', 'CS_Economics__The_1930', 'CS_Economics__The_1960', 'CS_Economics__The_Sixties', 'CS_Economics__neo-liberal.', 'CS_Economists', 'CS_Economy__Friedman', 'CS_Education', 'CS_Electric', 'CS_Electro-Therapeutics', 'CS_Elocution', 'CS_Embalming', 'CS_Embalming__Embalmers', 'CS_Ethnography', 'CS_Ethnography__Alfred_Schutz', 'CS_Ethnography__Urban_Ethno', 'CS_Expression', 'CS_Fiction', 'CS_Fiction__Black_Arts_Writers', 'CS_Fiction__Boomer_Humorists', 'CS_Fiction__Critics', 'CS_Fiction__Dramatic_Writing', 'CS_Fiction__Literary', 'CS_Fiction__Literature', 'CS_Fiction__Poetry', 'CS_Fiction__Realism', 'CS_Fiction__Social_Realism', 'CS_Fiction__Writers', 'CS_Fiction__imagist', 'CS_Filing', 'CS_Fine_Arts', 'CS_Human_Capital', 'CS_Industrial_Art', 'CS_Instruction', 'CS_Interior', 'CS_Journalism', 'CS_Law', 'CS_Law__Antitrust__Anti', 'CS_Law__Commercial_Law', 'CS_Law__Social_Norms', 'CS_Lettering', 'CS_Loyola_UoC__Social Work', 'CS_Loyola__Business_Administration', 'CS_Massage', 'CS_Mathematics__Analysis', 'CS_Medicine__Biomedical', 'CS_MentalHealth__The_1930', 'CS_Modern_Languages', 'CS_Motoring', 'CS_Music', 'CS_Music__Blues', 'CS_Music__Brass_Playing', 'CS_Music__Jazz', 'CS_Music__Tenor', 'CS_Music__The_Sixties', 'CS_Music__Vocal', 'CS_Music__gospel', 'CS_Narration', 'CS_Nursing', 'CS_Orator', 'CS_Osteopathy', 'CS_Painting', 'CS_Pharmacy', 'CS_Physical_Education', 'CS_Physical_Expression', 'CS_Physical_Sciences', 'CS_Politic', 'CS_Political_Science', 'CS_Politics__Behavioral_Studies', 'CS_Politics__Big_City_Flavor_1', 'CS_Printing', 'CS_Professional_Psychology', 'CS_Psychol', 'CS_Psychology__Biophysical_Psychology1', 'CS_Psychology__Brief_Psychoanalytic_Therapy', 'CS_Public_2', 'CS_Race_Relations', 'CS_Recreation', 'CS_Refraction', 'CS_Research.ers', 'CS_Sanitary', 'CS_Science', 'CS_Show_Card_Writing', 'CS_Sloyd', 'CS_Social_Admin.', 'CS_Social_Ecologists', 'CS_Social_Ecology', 'CS_Social_Inquiry', 'CS_Social_Research', 'CS_Social_Science', 'CS_Social_Service', 'CS_Social_Welfare', 'CS_Social_Work', 'CS_Sociologists', 'CS_Sociology', 'CS_Sociology__American_Soci', 'CS_Sociology__Burgess', 'CS_Sociology__Criminology', 'CS_Sociology__Human_Ecologists', 'CS_Sociology__Human_Ecology', 'CS_Sociology__Occupational_Socio', 'CS_Sociology__Social_Analysis', 'CS_Sociology__Social_Interactionism', 'CS_Sociology__Social_Psycholog.', 'CS_Sociology__Social_Scien.', 'CS_Sociology__Social_Studies', 'CS_Sociology__Social_Thought', 'CS_Sociology__The_1920', 'CS_Sociology__The_1930', 'CS_Sociology__Urban_1', 'CS_Sociology__Urban_Analysis', 'CS_Sociology__Urban_And_Ecological', 'CS_Sociology__Urban_Community_Studies', 'CS_Sociology__Urban_Ecologists', 'CS_Sociology__Urban_Ecology', 'CS_Sociology__Urban_Geograph', 'CS_Sociology__Urban_Research', 'CS_Sociology__Urban_Social_1', 'CS_Sociology__Urban_Social_Science', 'CS_Sociology__Urban_Sociolog', 'CS_Sociology__Urban_Sociology', 'CS_Sociology__Urban_Studies', 'CS_Sociology__Urbanism', 'CS_Sociology__Urbanists', 'CS_Sociology__Urbanolog', 'CS_Special_Education', 'CS_Speech', 'CS_Symbolic_Interactionism', 'CS_Television', 'CS_The_1950', 'CS_Theology', 'CS_Theology_Empirical_Theol', 'CS_Theology__Modernism', 'CS_Theology__The_1930', 'CS_Thought', 'CS_Thought__Functional_Psychology__F.Psychologists__F.Pragmatism', 'CS_Thought__Functionalism', 'CS_Thought__Functionalist_Thought', 'CS_Thought__Philosophy', 'CS_Trade', 'CS_UCS_Medicine', 'CS_UCS_Pragmatists', 'CS_UCS_Social_Service', 'CS_UCS__Social_Work', 'CS_UICS_Public_Health', 'CS_UICS_Urban_Planning', 'CS_Urban_Science', 'CS_Violin_Making', 'CS_Watchmaking', 'CS_functionalists', 'CS_law__thinking']\n"
     ]
    }
   ],
   "source": [
    "probs = clf.predict_proba(X_test)\n",
    "classes = list(clf.classes_)\n",
    "print(classes)"
   ]
  },
  {
   "cell_type": "code",
   "execution_count": 26,
   "metadata": {
    "collapsed": true
   },
   "outputs": [],
   "source": [
    "def get_label_prob(test_id_list,classes,probs,predicted):\n",
    "    class_to_prob =[]\n",
    "    for i,p in enumerate(zip(test_id_list,predicted,probs)):\n",
    "            if p[1] in classes:\n",
    "                idx = np.argmax(probs[i])\n",
    "                pb = probs[i][idx]\n",
    "                class_to_prob.append((p[0],p[1],pb))\n",
    "    return class_to_prob"
   ]
  },
  {
   "cell_type": "code",
   "execution_count": 27,
   "metadata": {
    "collapsed": false,
    "scrolled": false
   },
   "outputs": [],
   "source": [
    "label_probas = get_label_prob(test_id_list,classes,probs,predicted)"
   ]
  },
  {
   "cell_type": "code",
   "execution_count": 28,
   "metadata": {
    "collapsed": false
   },
   "outputs": [
    {
     "name": "stdout",
     "output_type": "stream",
     "text": [
      "[('0_coo.31924058941158_00000447', 'CS_UCS_Medicine', 0.90000000000000002), ('0_coo.31924058941158_00000471', 'CS_UCS_Medicine', 0.90000000000000002), ('0_coo.31924058941158_00000507', 'CS_UCS_Medicine', 0.90000000000000002), ('0_inu.30000011528365_00000612', 'CS_Architecture', 0.69999999999999996), ('0_inu.30000011528365_00000613', 'CS_Architecture', 0.40000000000000002), ('0_loc.ark+=13960=t23b6h241_00000095', 'CS_Architecture', 0.20000000000000001), ('0_mdp.39015000770506_00000195', 'CS_UCS_Medicine', 0.59999999999999998), ('0_mdp.39015000770506_00000196', 'CS_UCS_Medicine', 0.5), ('0_mdp.39015000770514_00000190', 'CS_UCS_Medicine', 0.69999999999999996), ('0_mdp.39015000786593_00000025', 'CS_UCS_Medicine', 0.29999999999999999), ('0_mdp.39015001525446_00000576', 'CS_Architecture', 0.69999999999999996), ('0_mdp.39015001640328_00000313', 'CS_Economic', 0.5), ('0_mdp.39015003736124_00000093', 'CS_Sociology', 0.5), ('0_mdp.39015003793919_00000683', 'CS_Architecture', 0.59999999999999998), ('0_mdp.39015004725290_00000229', 'CS_Business', 0.5), ('0_mdp.39015004725290_00000230', 'CS_Architecture', 0.69999999999999996), ('0_mdp.39015004796366_00000290', 'CS_Business', 0.29999999999999999), ('0_mdp.39015004809110_00000065', 'CS_Architecture', 0.90000000000000002), ('0_mdp.39015005130672_00000173', 'CS_Economic', 0.20000000000000001), ('0_mdp.39015005176774_00000107', 'CS_Architecture_Foundation', 0.10000000000000001)]\n"
     ]
    }
   ],
   "source": [
    "print(label_probas[:20])"
   ]
  },
  {
   "cell_type": "code",
   "execution_count": 29,
   "metadata": {
    "collapsed": false
   },
   "outputs": [
    {
     "data": {
      "text/plain": [
       "168788"
      ]
     },
     "execution_count": 29,
     "metadata": {},
     "output_type": "execute_result"
    }
   ],
   "source": [
    "len(label_probas)"
   ]
  },
  {
   "cell_type": "code",
   "execution_count": 30,
   "metadata": {
    "collapsed": true
   },
   "outputs": [],
   "source": [
    "with open(\"label_prob_RF.pkl\", 'wb') as fp7:\n",
    "    pickle.dump(label_probas,fp7)"
   ]
  },
  {
   "cell_type": "code",
   "execution_count": 31,
   "metadata": {
    "collapsed": true
   },
   "outputs": [],
   "source": [
    "id_to_predicted = [p for p in zip(test_id_list,predicted)]"
   ]
  },
  {
   "cell_type": "code",
   "execution_count": 32,
   "metadata": {
    "collapsed": true
   },
   "outputs": [],
   "source": [
    "with open(\"predicted_RF.pkl\", 'wb') as fp5:\n",
    "    pickle.dump(id_to_predicted,fp5)"
   ]
  },
  {
   "cell_type": "code",
   "execution_count": 33,
   "metadata": {
    "collapsed": false
   },
   "outputs": [],
   "source": [
    "with open(\"predicted_RF.pkl\", 'rb') as fp6:\n",
    "    predicted_labels = pickle.load(fp6)\n"
   ]
  },
  {
   "cell_type": "code",
   "execution_count": 34,
   "metadata": {
    "collapsed": false,
    "scrolled": false
   },
   "outputs": [
    {
     "data": {
      "text/plain": [
       "[('0_coo.31924058941158_00000447', 'CS_UCS_Medicine'),\n",
       " ('0_coo.31924058941158_00000471', 'CS_UCS_Medicine'),\n",
       " ('0_coo.31924058941158_00000507', 'CS_UCS_Medicine'),\n",
       " ('0_inu.30000011528365_00000612', 'CS_Architecture'),\n",
       " ('0_inu.30000011528365_00000613', 'CS_Architecture'),\n",
       " ('0_loc.ark+=13960=t23b6h241_00000095', 'CS_Architecture'),\n",
       " ('0_mdp.39015000770506_00000195', 'CS_UCS_Medicine'),\n",
       " ('0_mdp.39015000770506_00000196', 'CS_UCS_Medicine'),\n",
       " ('0_mdp.39015000770514_00000190', 'CS_UCS_Medicine'),\n",
       " ('0_mdp.39015000786593_00000025', 'CS_UCS_Medicine'),\n",
       " ('0_mdp.39015001525446_00000576', 'CS_Architecture'),\n",
       " ('0_mdp.39015001640328_00000313', 'CS_Economic'),\n",
       " ('0_mdp.39015003736124_00000093', 'CS_Sociology'),\n",
       " ('0_mdp.39015003793919_00000683', 'CS_Architecture'),\n",
       " ('0_mdp.39015004725290_00000229', 'CS_Business'),\n",
       " ('0_mdp.39015004725290_00000230', 'CS_Architecture'),\n",
       " ('0_mdp.39015004796366_00000290', 'CS_Business'),\n",
       " ('0_mdp.39015004809110_00000065', 'CS_Architecture'),\n",
       " ('0_mdp.39015005130672_00000173', 'CS_Economic'),\n",
       " ('0_mdp.39015005176774_00000107', 'CS_Architecture_Foundation'),\n",
       " ('0_mdp.39015005176774_00000209', 'CS_Sociology'),\n",
       " ('0_mdp.39015005176774_00000295', 'CS_Sociologists'),\n",
       " ('0_mdp.39015005176774_00000329', 'CS_Economic'),\n",
       " ('0_mdp.39015006282274_00000201', 'CS_Architecture'),\n",
       " ('0_mdp.39015006282274_00000208', 'CS_Sociology'),\n",
       " ('0_mdp.39015006282274_00000245', 'CS_Architecture'),\n",
       " ('0_mdp.39015006784998_00000266', 'CS_Architecture'),\n",
       " ('0_mdp.39015008011960_00000287', 'CS_Architecture'),\n",
       " ('0_mdp.39015008011960_00000379', 'CS_Design'),\n",
       " ('0_mdp.39015008561329_00000065', 'CS_Architecture'),\n",
       " ('0_mdp.39015008832530_00000154', 'CS_UCS_Medicine'),\n",
       " ('0_mdp.39015008832530_00000162', 'CS_Business'),\n",
       " ('0_mdp.39015008832530_00000168', 'CS_Economic'),\n",
       " ('0_mdp.39015008832530_00000170', 'CS_Fiction__Critics'),\n",
       " ('0_mdp.39015010386996_00000110', 'CS_Business'),\n",
       " ('0_mdp.39015010386996_00000119', 'CS_Sociology__Urban_Sociology'),\n",
       " ('0_mdp.39015011005678_00000515', 'CS_Sociology'),\n",
       " ('0_mdp.39015011601666_00000274', 'CS_Education'),\n",
       " ('0_mdp.39015013753622_00000030', 'CS_Education'),\n",
       " ('0_mdp.39015014521051_00000152', 'CS_Sociology'),\n",
       " ('0_mdp.39015014748878_00000125', 'CS_Education'),\n",
       " ('0_mdp.39015018611312_00000089', 'CS_Economic'),\n",
       " ('0_mdp.39015018611312_00000091', 'CS_Business'),\n",
       " ('0_mdp.39015020487990_00000013', 'CS_Business'),\n",
       " ('0_mdp.39015022074382_00000362',\n",
       "  'CS_Thought__Functional_Psychology__F.Psychologists__F.Pragmatism'),\n",
       " ('0_mdp.39015024874557_00000063', 'CS_Business'),\n",
       " ('0_mdp.39015025351456_00000104', 'CS_Economic'),\n",
       " ('0_mdp.39015027341497_00000062', 'CS_Sociologists'),\n",
       " ('0_mdp.39015027507964_00000049', 'CS_Sociology'),\n",
       " ('0_mdp.39015027507964_00000222', 'CS_Business'),\n",
       " ('0_mdp.39015027588485_00000164', 'CS_Business'),\n",
       " ('0_mdp.39015027588485_00000165', 'CS_UCS_Social_Service'),\n",
       " ('0_mdp.39015028552548_00000110', 'CS_Architecture'),\n",
       " ('0_mdp.39015028770645_00000066', 'CS_Nursing'),\n",
       " ('0_mdp.39015028770645_00000079', 'CS_Business'),\n",
       " ('0_mdp.39015032116470_00000285', 'CS_Economic'),\n",
       " ('0_mdp.39015032199781_00000348', 'CS_Architecture'),\n",
       " ('0_mdp.39015032328083_00000017', 'CS_Architecture'),\n",
       " ('0_mdp.39015032643044_00000040', 'CS_Law'),\n",
       " ('0_mdp.39015037033688_00000538', 'CS_Law'),\n",
       " ('0_mdp.39015037129437_00000017', 'CS_Architecture'),\n",
       " ('0_mdp.39015041862874_00000161', 'CS_Economic'),\n",
       " ('0_mdp.39015041862874_00000163', 'CS_Economic'),\n",
       " ('0_mdp.39015050201477_00000058', 'CS_Sociologists'),\n",
       " ('0_mdp.39015050587461_00000592', 'CS_Business'),\n",
       " ('0_mdp.39015050587495_00000040', 'CS_Architecture'),\n",
       " ('0_mdp.39015050587495_00000044', 'CS_Law'),\n",
       " ('0_mdp.39015070973337_00000280', 'CS_UCS_Medicine'),\n",
       " ('0_mdp.39015081545264_00000022', 'CS_Civics_And_Philanthropy'),\n",
       " ('0_pst.000010569740_00000018', 'CS_Sociology__Criminology'),\n",
       " ('0_pst.000014142949_00000104', 'CS_Aviation'),\n",
       " ('0_pst.000021121531_00000339', 'CS_Sociology'),\n",
       " ('0_pst.000021121531_00000343', 'CS_Economic'),\n",
       " ('0_pst.000021121531_00000512', 'CS_Economic'),\n",
       " ('0_pst.000022760340_00000050', 'CS_Economic'),\n",
       " ('0_pst.000022760340_00000202', 'CS_Economic'),\n",
       " ('0_pst.000022760340_00000464', 'CS_Economists'),\n",
       " ('0_pst.000022760340_00000469', 'CS_Economists'),\n",
       " ('0_uc1.$b103083_00000074', 'CS_UCS_Social_Service'),\n",
       " ('0_uc1.$b114179_00000241', 'CS_UCS_Medicine'),\n",
       " ('0_uc1.$b114179_00000245', 'CS_UCS_Social_Service'),\n",
       " ('0_uc1.$b14849_00000284', 'CS_Architecture'),\n",
       " ('0_uc1.$b17412_00000325', 'CS_Education'),\n",
       " ('0_uc1.$b185199_00000139', 'CS_Civics_And_Philanthropy'),\n",
       " ('0_uc1.$b185199_00000145', 'CS_UCS_Social_Service'),\n",
       " ('0_uc1.$b185199_00000148', 'CS_Civics_And_Philanthropy'),\n",
       " ('0_uc1.$b200091_00000012', 'CS_Architecture'),\n",
       " ('0_uc1.$b200100_00000238', 'CS_Fiction__Literary'),\n",
       " ('0_uc1.$b200113_00000064', 'CS_Sociologists'),\n",
       " ('0_uc1.$b200151_00000025', 'CS_Thought'),\n",
       " ('0_uc1.$b200161_00000257', 'CS_Business'),\n",
       " ('0_uc1.$b200162_00000715', 'CS_Law'),\n",
       " ('0_uc1.$b202152_00000139', 'CS_Economic'),\n",
       " ('0_uc1.$b202228_00000076', 'CS_Education'),\n",
       " ('0_uc1.$b202230_00000116', 'CS_UCS_Medicine'),\n",
       " ('0_uc1.$b202230_00000288', 'CS_Law'),\n",
       " ('0_uc1.$b202231_00000110', 'CS_Sociologists'),\n",
       " ('0_uc1.$b202231_00000335', 'CS_Law'),\n",
       " ('0_uc1.$b202355_00000366', 'CS_Social_Science'),\n",
       " ('0_uc1.$b215523_00000291', 'CS_Economic')]"
      ]
     },
     "execution_count": 34,
     "metadata": {},
     "output_type": "execute_result"
    }
   ],
   "source": [
    "predicted_labels[:100]"
   ]
  },
  {
   "cell_type": "code",
   "execution_count": 44,
   "metadata": {
    "collapsed": false,
    "scrolled": false
   },
   "outputs": [
    {
     "data": {
      "text/plain": [
       "Counter({'CS_1': 60,\n",
       "         'CS_AICS_Drama__The_Drama': 94,\n",
       "         'CS_AICS__Drama': 19,\n",
       "         'CS_Advertising': 51,\n",
       "         'CS_Anatomy': 28,\n",
       "         'CS_Anthropology': 81,\n",
       "         'CS_Anthropology__Social_Anthropology': 9,\n",
       "         'CS_Anthropology__Symbolic_Anthropologists': 6,\n",
       "         'CS_Anthropology__Symbolic_Interact': 72,\n",
       "         'CS_Anthropology__Urban_Anthro': 14,\n",
       "         'CS_Antitrust_Analysis': 775,\n",
       "         'CS_Applied_And_Normal_Arts': 1039,\n",
       "         'CS_Applied_Art.': 33,\n",
       "         'CS_Architects': 97,\n",
       "         'CS_Architecture': 24923,\n",
       "         'CS_Architecture_Foundation': 474,\n",
       "         'CS_Architecture__1880': 2,\n",
       "         'CS_Architecture__American_architecture': 5,\n",
       "         'CS_Architecture__Building': 1,\n",
       "         'CS_Architecture__Burnham': 1,\n",
       "         'CS_Architecture__Commercial_Architecture': 19,\n",
       "         'CS_Architecture__Commercial_Skyscraper__Design__Architecture__Commercial_Architects': 1,\n",
       "         'CS_Architecture__Modern_A': 1,\n",
       "         'CS_Art': 80,\n",
       "         'CS_Assaying': 134,\n",
       "         'CS_Automatic_Transmission': 91,\n",
       "         'CS_Aviation': 47,\n",
       "         'CS_Ballet': 8,\n",
       "         'CS_Baseball_Writing': 11,\n",
       "         'CS_Beauty': 1,\n",
       "         'CS_Behavioris.': 32,\n",
       "         'CS_Biology': 1,\n",
       "         'CS_Bookkeeping': 3,\n",
       "         'CS_Broadcasting': 1,\n",
       "         'CS_Business': 7356,\n",
       "         'CS_Business_Administration': 36,\n",
       "         'CS_Chiropody': 16,\n",
       "         'CS_Civics_And_Philanthropy': 5353,\n",
       "         'CS_Commerce': 219,\n",
       "         'CS_Dental': 12,\n",
       "         'CS_Dentistry': 272,\n",
       "         'CS_Dept.': 1,\n",
       "         'CS_Design': 232,\n",
       "         'CS_Divinity': 116,\n",
       "         'CS_DomesticScience': 13,\n",
       "         'CS_Dramatic_Art': 11,\n",
       "         'CS_Economic': 20994,\n",
       "         'CS_Economics__Monetar': 14,\n",
       "         'CS_Economics__Monetary_Economics': 82,\n",
       "         'CS_Economics__Neoclassical_Economics': 5,\n",
       "         'CS_Economics__The_1930': 42,\n",
       "         'CS_Economics__The_1960': 236,\n",
       "         'CS_Economics__neo-liberal.': 2,\n",
       "         'CS_Economists': 341,\n",
       "         'CS_Economy__Friedman': 1,\n",
       "         'CS_Education': 47351,\n",
       "         'CS_Electric': 115,\n",
       "         'CS_Electro-Therapeutics': 3,\n",
       "         'CS_Elocution': 114,\n",
       "         'CS_Embalming': 5,\n",
       "         'CS_Ethnography': 5,\n",
       "         'CS_Ethnography__Alfred_Schutz': 11,\n",
       "         'CS_Ethnography__Urban_Ethno': 2,\n",
       "         'CS_Expression': 205,\n",
       "         'CS_Fiction': 152,\n",
       "         'CS_Fiction__Boomer_Humorists': 5,\n",
       "         'CS_Fiction__Critics': 326,\n",
       "         'CS_Fiction__Dramatic_Writing': 2,\n",
       "         'CS_Fiction__Literary': 283,\n",
       "         'CS_Fiction__Literature': 26,\n",
       "         'CS_Fiction__Poetry': 8,\n",
       "         'CS_Fiction__Realism': 23,\n",
       "         'CS_Fiction__Social_Realism': 1,\n",
       "         'CS_Fiction__Writers': 39,\n",
       "         'CS_Fiction__imagist': 4,\n",
       "         'CS_Filing': 24,\n",
       "         'CS_Human_Capital': 1,\n",
       "         'CS_Industrial_Art': 28,\n",
       "         'CS_Instruction': 1,\n",
       "         'CS_Interior': 485,\n",
       "         'CS_Journalism': 49,\n",
       "         'CS_Law': 3646,\n",
       "         'CS_Law__Antitrust__Anti': 171,\n",
       "         'CS_Law__Social_Norms': 2,\n",
       "         'CS_Lettering': 27,\n",
       "         'CS_Loyola_UoC__Social Work': 7,\n",
       "         'CS_Massage': 138,\n",
       "         'CS_Mathematics__Analysis': 2,\n",
       "         'CS_Modern_Languages': 3,\n",
       "         'CS_Motoring': 187,\n",
       "         'CS_Music': 145,\n",
       "         'CS_Music__Blues': 1,\n",
       "         'CS_Music__Jazz': 67,\n",
       "         'CS_Music__Vocal': 3,\n",
       "         'CS_Music__gospel': 9,\n",
       "         'CS_Narration': 3,\n",
       "         'CS_Nursing': 4578,\n",
       "         'CS_Orator': 27,\n",
       "         'CS_Osteopathy': 16,\n",
       "         'CS_Painting': 149,\n",
       "         'CS_Pharmacy': 144,\n",
       "         'CS_Physical_Education': 675,\n",
       "         'CS_Physical_Sciences': 3,\n",
       "         'CS_Politic': 303,\n",
       "         'CS_Political_Science': 101,\n",
       "         'CS_Politics__Behavioral_Studies': 2,\n",
       "         'CS_Politics__Big_City_Flavor_1': 4,\n",
       "         'CS_Printing': 323,\n",
       "         'CS_Professional_Psychology': 1000,\n",
       "         'CS_Psychol': 240,\n",
       "         'CS_Psychology__Biophysical_Psychology1': 6,\n",
       "         'CS_Psychology__Brief_Psychoanalytic_Therapy': 1,\n",
       "         'CS_Public_2': 8,\n",
       "         'CS_Race_Relations': 4,\n",
       "         'CS_Recreation': 1,\n",
       "         'CS_Refraction': 27,\n",
       "         'CS_Research.ers': 7,\n",
       "         'CS_Sanitary': 1227,\n",
       "         'CS_Science': 78,\n",
       "         'CS_Social_Admin.': 13,\n",
       "         'CS_Social_Ecologists': 13,\n",
       "         'CS_Social_Ecology': 11,\n",
       "         'CS_Social_Inquiry': 1,\n",
       "         'CS_Social_Research': 12,\n",
       "         'CS_Social_Science': 158,\n",
       "         'CS_Social_Service': 2,\n",
       "         'CS_Social_Welfare': 1,\n",
       "         'CS_Social_Work': 10,\n",
       "         'CS_Sociologists': 4826,\n",
       "         'CS_Sociology': 19693,\n",
       "         'CS_Sociology__American_Soci': 38,\n",
       "         'CS_Sociology__Criminology': 1054,\n",
       "         'CS_Sociology__Human_Ecologists': 17,\n",
       "         'CS_Sociology__Human_Ecology': 195,\n",
       "         'CS_Sociology__Social_Analysis': 1,\n",
       "         'CS_Sociology__Social_Interactionism': 3,\n",
       "         'CS_Sociology__Social_Scien.': 8,\n",
       "         'CS_Sociology__Social_Studies': 2,\n",
       "         'CS_Sociology__Social_Thought': 13,\n",
       "         'CS_Sociology__The_1920': 513,\n",
       "         'CS_Sociology__The_1930': 3,\n",
       "         'CS_Sociology__Urban_1': 8,\n",
       "         'CS_Sociology__Urban_Ecologists': 139,\n",
       "         'CS_Sociology__Urban_Ecology': 45,\n",
       "         'CS_Sociology__Urban_Geograph': 5,\n",
       "         'CS_Sociology__Urban_Research': 1,\n",
       "         'CS_Sociology__Urban_Sociolog': 16,\n",
       "         'CS_Sociology__Urban_Sociology': 770,\n",
       "         'CS_Sociology__Urban_Studies': 3,\n",
       "         'CS_Sociology__Urbanism': 4,\n",
       "         'CS_Sociology__Urbanolog': 7,\n",
       "         'CS_Special_Education': 75,\n",
       "         'CS_Speech': 4,\n",
       "         'CS_Symbolic_Interactionism': 704,\n",
       "         'CS_Television': 255,\n",
       "         'CS_The_1950': 1,\n",
       "         'CS_Theology': 877,\n",
       "         'CS_Theology_Empirical_Theol': 1,\n",
       "         'CS_Theology__Modernism': 7,\n",
       "         'CS_Thought': 274,\n",
       "         'CS_Thought__Functional_Psychology__F.Psychologists__F.Pragmatism': 105,\n",
       "         'CS_Thought__Functionalism': 141,\n",
       "         'CS_Thought__Philosophy': 168,\n",
       "         'CS_UCS_Medicine': 7418,\n",
       "         'CS_UCS_Pragmatists': 9,\n",
       "         'CS_UCS_Social_Service': 2490,\n",
       "         'CS_UCS__Social_Work': 22,\n",
       "         'CS_UICS_Public_Health': 928,\n",
       "         'CS_Violin_Making': 121,\n",
       "         'CS_Watchmaking': 1432})"
      ]
     },
     "execution_count": 44,
     "metadata": {},
     "output_type": "execute_result"
    }
   ],
   "source": [
    "predicted_cats = [p[1] for p in predicted_labels]\n",
    "Counter(predicted_cats)"
   ]
  },
  {
   "cell_type": "code",
   "execution_count": 36,
   "metadata": {
    "collapsed": false,
    "scrolled": false
   },
   "outputs": [
    {
     "data": {
      "text/plain": [
       "[('0_coo.31924058941158_00000447', 'CS_UCS_Medicine', 0.90000000000000002),\n",
       " ('0_coo.31924058941158_00000471', 'CS_UCS_Medicine', 0.90000000000000002),\n",
       " ('0_coo.31924058941158_00000507', 'CS_UCS_Medicine', 0.90000000000000002),\n",
       " ('0_inu.30000011528365_00000612', 'CS_Architecture', 0.69999999999999996),\n",
       " ('0_inu.30000011528365_00000613', 'CS_Architecture', 0.40000000000000002),\n",
       " ('0_loc.ark+=13960=t23b6h241_00000095',\n",
       "  'CS_Architecture',\n",
       "  0.20000000000000001),\n",
       " ('0_mdp.39015000770506_00000195', 'CS_UCS_Medicine', 0.59999999999999998),\n",
       " ('0_mdp.39015000770506_00000196', 'CS_UCS_Medicine', 0.5),\n",
       " ('0_mdp.39015000770514_00000190', 'CS_UCS_Medicine', 0.69999999999999996),\n",
       " ('0_mdp.39015000786593_00000025', 'CS_UCS_Medicine', 0.29999999999999999),\n",
       " ('0_mdp.39015001525446_00000576', 'CS_Architecture', 0.69999999999999996),\n",
       " ('0_mdp.39015001640328_00000313', 'CS_Economic', 0.5),\n",
       " ('0_mdp.39015003736124_00000093', 'CS_Sociology', 0.5),\n",
       " ('0_mdp.39015003793919_00000683', 'CS_Architecture', 0.59999999999999998),\n",
       " ('0_mdp.39015004725290_00000229', 'CS_Business', 0.5),\n",
       " ('0_mdp.39015004725290_00000230', 'CS_Architecture', 0.69999999999999996),\n",
       " ('0_mdp.39015004796366_00000290', 'CS_Business', 0.29999999999999999),\n",
       " ('0_mdp.39015004809110_00000065', 'CS_Architecture', 0.90000000000000002),\n",
       " ('0_mdp.39015005130672_00000173', 'CS_Economic', 0.20000000000000001),\n",
       " ('0_mdp.39015005176774_00000107',\n",
       "  'CS_Architecture_Foundation',\n",
       "  0.10000000000000001),\n",
       " ('0_mdp.39015005176774_00000209', 'CS_Sociology', 0.40000000000000002),\n",
       " ('0_mdp.39015005176774_00000295', 'CS_Sociologists', 0.2320421250846425),\n",
       " ('0_mdp.39015005176774_00000329', 'CS_Economic', 0.29999999999999999),\n",
       " ('0_mdp.39015006282274_00000201', 'CS_Architecture', 0.90000000000000002),\n",
       " ('0_mdp.39015006282274_00000208', 'CS_Sociology', 0.69999999999999996),\n",
       " ('0_mdp.39015006282274_00000245', 'CS_Architecture', 0.5),\n",
       " ('0_mdp.39015006784998_00000266', 'CS_Architecture', 0.40000000000000002),\n",
       " ('0_mdp.39015008011960_00000287', 'CS_Architecture', 0.20000000000000001),\n",
       " ('0_mdp.39015008011960_00000379', 'CS_Design', 0.20000000000000001),\n",
       " ('0_mdp.39015008561329_00000065', 'CS_Architecture', 0.80000000000000004),\n",
       " ('0_mdp.39015008832530_00000154', 'CS_UCS_Medicine', 0.20000000000000001),\n",
       " ('0_mdp.39015008832530_00000162', 'CS_Business', 0.20000000000000001),\n",
       " ('0_mdp.39015008832530_00000168', 'CS_Economic', 0.59999999999999998),\n",
       " ('0_mdp.39015008832530_00000170', 'CS_Fiction__Critics', 0.20000000000000001),\n",
       " ('0_mdp.39015010386996_00000110', 'CS_Business', 0.29999999999999999),\n",
       " ('0_mdp.39015010386996_00000119',\n",
       "  'CS_Sociology__Urban_Sociology',\n",
       "  0.29999999999999999),\n",
       " ('0_mdp.39015011005678_00000515', 'CS_Sociology', 0.40000000000000002),\n",
       " ('0_mdp.39015011601666_00000274', 'CS_Education', 0.22131870195038142),\n",
       " ('0_mdp.39015013753622_00000030', 'CS_Education', 0.20821345460319512),\n",
       " ('0_mdp.39015014521051_00000152', 'CS_Sociology', 0.40000000000000002),\n",
       " ('0_mdp.39015014748878_00000125', 'CS_Education', 0.3960959745498166),\n",
       " ('0_mdp.39015018611312_00000089', 'CS_Economic', 0.69999999999999996),\n",
       " ('0_mdp.39015018611312_00000091', 'CS_Business', 0.20000000000000001),\n",
       " ('0_mdp.39015020487990_00000013', 'CS_Business', 0.20000000000000001),\n",
       " ('0_mdp.39015022074382_00000362',\n",
       "  'CS_Thought__Functional_Psychology__F.Psychologists__F.Pragmatism',\n",
       "  0.5),\n",
       " ('0_mdp.39015024874557_00000063', 'CS_Business', 0.20000000000000001),\n",
       " ('0_mdp.39015025351456_00000104', 'CS_Economic', 0.69999999999999996),\n",
       " ('0_mdp.39015027341497_00000062', 'CS_Sociologists', 0.33204212508464248),\n",
       " ('0_mdp.39015027507964_00000049', 'CS_Sociology', 0.80000000000000004),\n",
       " ('0_mdp.39015027507964_00000222', 'CS_Business', 0.20000000000000001),\n",
       " ('0_mdp.39015027588485_00000164', 'CS_Business', 0.20000000000000001),\n",
       " ('0_mdp.39015027588485_00000165',\n",
       "  'CS_UCS_Social_Service',\n",
       "  0.29999999999999999),\n",
       " ('0_mdp.39015028552548_00000110', 'CS_Architecture', 0.61283895960154955),\n",
       " ('0_mdp.39015028770645_00000066', 'CS_Nursing', 0.29999999999999999),\n",
       " ('0_mdp.39015028770645_00000079', 'CS_Business', 0.20000000000000001),\n",
       " ('0_mdp.39015032116470_00000285', 'CS_Economic', 0.5),\n",
       " ('0_mdp.39015032199781_00000348', 'CS_Architecture', 0.69999999999999996),\n",
       " ('0_mdp.39015032328083_00000017', 'CS_Architecture', 0.20000000000000001),\n",
       " ('0_mdp.39015032643044_00000040', 'CS_Law', 0.20000000000000001),\n",
       " ('0_mdp.39015037033688_00000538', 'CS_Law', 0.40000000000000002),\n",
       " ('0_mdp.39015037129437_00000017', 'CS_Architecture', 0.80000000000000004),\n",
       " ('0_mdp.39015041862874_00000161', 'CS_Economic', 0.69999999999999996),\n",
       " ('0_mdp.39015041862874_00000163', 'CS_Economic', 0.5),\n",
       " ('0_mdp.39015050201477_00000058', 'CS_Sociologists', 0.35504863855660623),\n",
       " ('0_mdp.39015050587461_00000592', 'CS_Business', 0.20000000000000001),\n",
       " ('0_mdp.39015050587495_00000040', 'CS_Architecture', 0.69999999999999996),\n",
       " ('0_mdp.39015050587495_00000044', 'CS_Law', 0.40000000000000002),\n",
       " ('0_mdp.39015070973337_00000280', 'CS_UCS_Medicine', 0.29999999999999999),\n",
       " ('0_mdp.39015081545264_00000022',\n",
       "  'CS_Civics_And_Philanthropy',\n",
       "  0.20000000000000001),\n",
       " ('0_pst.000010569740_00000018',\n",
       "  'CS_Sociology__Criminology',\n",
       "  0.20000000000000001),\n",
       " ('0_pst.000014142949_00000104', 'CS_Aviation', 0.20000000000000001),\n",
       " ('0_pst.000021121531_00000339', 'CS_Sociology', 0.29999999999999999),\n",
       " ('0_pst.000021121531_00000343', 'CS_Economic', 0.40000000000000002),\n",
       " ('0_pst.000021121531_00000512', 'CS_Economic', 0.40000000000000002),\n",
       " ('0_pst.000022760340_00000050', 'CS_Economic', 0.20873185301242722),\n",
       " ('0_pst.000022760340_00000202', 'CS_Economic', 0.5),\n",
       " ('0_pst.000022760340_00000464', 'CS_Economists', 0.20000000000000001),\n",
       " ('0_pst.000022760340_00000469', 'CS_Economists', 0.20000000000000001),\n",
       " ('0_uc1.$b103083_00000074', 'CS_UCS_Social_Service', 0.29999999999999999),\n",
       " ('0_uc1.$b114179_00000241', 'CS_UCS_Medicine', 0.40000000000000002),\n",
       " ('0_uc1.$b114179_00000245', 'CS_UCS_Social_Service', 0.40000000000000002),\n",
       " ('0_uc1.$b14849_00000284', 'CS_Architecture', 0.29999999999999999),\n",
       " ('0_uc1.$b17412_00000325', 'CS_Education', 0.21310524734718633),\n",
       " ('0_uc1.$b185199_00000139',\n",
       "  'CS_Civics_And_Philanthropy',\n",
       "  0.29999999999999999),\n",
       " ('0_uc1.$b185199_00000145', 'CS_UCS_Social_Service', 0.5),\n",
       " ('0_uc1.$b185199_00000148',\n",
       "  'CS_Civics_And_Philanthropy',\n",
       "  0.20000000000000001),\n",
       " ('0_uc1.$b200091_00000012', 'CS_Architecture', 0.5),\n",
       " ('0_uc1.$b200100_00000238', 'CS_Fiction__Literary', 0.40000000000000002),\n",
       " ('0_uc1.$b200113_00000064', 'CS_Sociologists', 0.31646926820320653),\n",
       " ('0_uc1.$b200151_00000025', 'CS_Thought', 0.20000000000000001),\n",
       " ('0_uc1.$b200161_00000257', 'CS_Business', 0.20000000000000001),\n",
       " ('0_uc1.$b200162_00000715', 'CS_Law', 0.29999999999999999),\n",
       " ('0_uc1.$b202152_00000139', 'CS_Economic', 0.23228315495868754),\n",
       " ('0_uc1.$b202228_00000076', 'CS_Education', 0.29999999999999999),\n",
       " ('0_uc1.$b202230_00000116', 'CS_UCS_Medicine', 0.20000000000000001),\n",
       " ('0_uc1.$b202230_00000288', 'CS_Law', 0.20000000000000001),\n",
       " ('0_uc1.$b202231_00000110', 'CS_Sociologists', 0.25504863855660626),\n",
       " ('0_uc1.$b202231_00000335', 'CS_Law', 0.29999999999999999),\n",
       " ('0_uc1.$b202355_00000366', 'CS_Social_Science', 0.40000000000000002),\n",
       " ('0_uc1.$b215523_00000291', 'CS_Economic', 0.80000000000000004)]"
      ]
     },
     "execution_count": 36,
     "metadata": {},
     "output_type": "execute_result"
    }
   ],
   "source": [
    "with open(\"label_prob_RF.pkl\", 'rb') as fp8:\n",
    "    data = pickle.load(fp8)\n",
    "    \n",
    "(data[:100])"
   ]
  },
  {
   "cell_type": "code",
   "execution_count": 37,
   "metadata": {
    "collapsed": false
   },
   "outputs": [
    {
     "data": {
      "text/plain": [
       "168788"
      ]
     },
     "execution_count": 37,
     "metadata": {},
     "output_type": "execute_result"
    }
   ],
   "source": [
    "len(data)"
   ]
  },
  {
   "cell_type": "code",
   "execution_count": 38,
   "metadata": {
    "collapsed": false
   },
   "outputs": [
    {
     "name": "stdout",
     "output_type": "stream",
     "text": [
      "140916\n"
     ]
    }
   ],
   "source": [
    "thresholded_prob = [x for x in data if x[2]>0.2]\n",
    "print(len(thresholded_prob))"
   ]
  },
  {
   "cell_type": "code",
   "execution_count": 39,
   "metadata": {
    "collapsed": true
   },
   "outputs": [],
   "source": [
    "with open(\"label_prob_RF.pkl\", 'rb') as fp7:\n",
    "    all_pbs = pickle.load(fp7)"
   ]
  },
  {
   "cell_type": "code",
   "execution_count": 40,
   "metadata": {
    "collapsed": false,
    "scrolled": false
   },
   "outputs": [
    {
     "data": {
      "text/plain": [
       "[('0_coo.31924058941158_00000447', 'CS_UCS_Medicine', 0.90000000000000002),\n",
       " ('0_coo.31924058941158_00000471', 'CS_UCS_Medicine', 0.90000000000000002),\n",
       " ('0_coo.31924058941158_00000507', 'CS_UCS_Medicine', 0.90000000000000002),\n",
       " ('0_inu.30000011528365_00000612', 'CS_Architecture', 0.69999999999999996),\n",
       " ('0_inu.30000011528365_00000613', 'CS_Architecture', 0.40000000000000002),\n",
       " ('0_loc.ark+=13960=t23b6h241_00000095',\n",
       "  'CS_Architecture',\n",
       "  0.20000000000000001),\n",
       " ('0_mdp.39015000770506_00000195', 'CS_UCS_Medicine', 0.59999999999999998),\n",
       " ('0_mdp.39015000770506_00000196', 'CS_UCS_Medicine', 0.5),\n",
       " ('0_mdp.39015000770514_00000190', 'CS_UCS_Medicine', 0.69999999999999996),\n",
       " ('0_mdp.39015000786593_00000025', 'CS_UCS_Medicine', 0.29999999999999999),\n",
       " ('0_mdp.39015001525446_00000576', 'CS_Architecture', 0.69999999999999996),\n",
       " ('0_mdp.39015001640328_00000313', 'CS_Economic', 0.5),\n",
       " ('0_mdp.39015003736124_00000093', 'CS_Sociology', 0.5),\n",
       " ('0_mdp.39015003793919_00000683', 'CS_Architecture', 0.59999999999999998),\n",
       " ('0_mdp.39015004725290_00000229', 'CS_Business', 0.5),\n",
       " ('0_mdp.39015004725290_00000230', 'CS_Architecture', 0.69999999999999996),\n",
       " ('0_mdp.39015004796366_00000290', 'CS_Business', 0.29999999999999999),\n",
       " ('0_mdp.39015004809110_00000065', 'CS_Architecture', 0.90000000000000002),\n",
       " ('0_mdp.39015005130672_00000173', 'CS_Economic', 0.20000000000000001),\n",
       " ('0_mdp.39015005176774_00000107',\n",
       "  'CS_Architecture_Foundation',\n",
       "  0.10000000000000001),\n",
       " ('0_mdp.39015005176774_00000209', 'CS_Sociology', 0.40000000000000002),\n",
       " ('0_mdp.39015005176774_00000295', 'CS_Sociologists', 0.2320421250846425),\n",
       " ('0_mdp.39015005176774_00000329', 'CS_Economic', 0.29999999999999999),\n",
       " ('0_mdp.39015006282274_00000201', 'CS_Architecture', 0.90000000000000002),\n",
       " ('0_mdp.39015006282274_00000208', 'CS_Sociology', 0.69999999999999996),\n",
       " ('0_mdp.39015006282274_00000245', 'CS_Architecture', 0.5),\n",
       " ('0_mdp.39015006784998_00000266', 'CS_Architecture', 0.40000000000000002),\n",
       " ('0_mdp.39015008011960_00000287', 'CS_Architecture', 0.20000000000000001),\n",
       " ('0_mdp.39015008011960_00000379', 'CS_Design', 0.20000000000000001),\n",
       " ('0_mdp.39015008561329_00000065', 'CS_Architecture', 0.80000000000000004),\n",
       " ('0_mdp.39015008832530_00000154', 'CS_UCS_Medicine', 0.20000000000000001),\n",
       " ('0_mdp.39015008832530_00000162', 'CS_Business', 0.20000000000000001),\n",
       " ('0_mdp.39015008832530_00000168', 'CS_Economic', 0.59999999999999998),\n",
       " ('0_mdp.39015008832530_00000170', 'CS_Fiction__Critics', 0.20000000000000001),\n",
       " ('0_mdp.39015010386996_00000110', 'CS_Business', 0.29999999999999999),\n",
       " ('0_mdp.39015010386996_00000119',\n",
       "  'CS_Sociology__Urban_Sociology',\n",
       "  0.29999999999999999),\n",
       " ('0_mdp.39015011005678_00000515', 'CS_Sociology', 0.40000000000000002),\n",
       " ('0_mdp.39015011601666_00000274', 'CS_Education', 0.22131870195038142),\n",
       " ('0_mdp.39015013753622_00000030', 'CS_Education', 0.20821345460319512),\n",
       " ('0_mdp.39015014521051_00000152', 'CS_Sociology', 0.40000000000000002),\n",
       " ('0_mdp.39015014748878_00000125', 'CS_Education', 0.3960959745498166),\n",
       " ('0_mdp.39015018611312_00000089', 'CS_Economic', 0.69999999999999996),\n",
       " ('0_mdp.39015018611312_00000091', 'CS_Business', 0.20000000000000001),\n",
       " ('0_mdp.39015020487990_00000013', 'CS_Business', 0.20000000000000001),\n",
       " ('0_mdp.39015022074382_00000362',\n",
       "  'CS_Thought__Functional_Psychology__F.Psychologists__F.Pragmatism',\n",
       "  0.5),\n",
       " ('0_mdp.39015024874557_00000063', 'CS_Business', 0.20000000000000001),\n",
       " ('0_mdp.39015025351456_00000104', 'CS_Economic', 0.69999999999999996),\n",
       " ('0_mdp.39015027341497_00000062', 'CS_Sociologists', 0.33204212508464248),\n",
       " ('0_mdp.39015027507964_00000049', 'CS_Sociology', 0.80000000000000004),\n",
       " ('0_mdp.39015027507964_00000222', 'CS_Business', 0.20000000000000001)]"
      ]
     },
     "execution_count": 40,
     "metadata": {},
     "output_type": "execute_result"
    }
   ],
   "source": [
    "all_pbs[:50]"
   ]
  },
  {
   "cell_type": "code",
   "execution_count": 41,
   "metadata": {
    "collapsed": false
   },
   "outputs": [
    {
     "name": "stdout",
     "output_type": "stream",
     "text": [
      "1.0\n",
      "0.1\n"
     ]
    }
   ],
   "source": [
    "all_ps = [x[2] for x in all_pbs]\n",
    "print(max(all_ps))\n",
    "print(min(all_ps))"
   ]
  },
  {
   "cell_type": "code",
   "execution_count": 42,
   "metadata": {
    "collapsed": false
   },
   "outputs": [
    {
     "name": "stdout",
     "output_type": "stream",
     "text": [
      "2728\n"
     ]
    }
   ],
   "source": [
    "all_ones = [x for x in all_pbs if x[2] == 1]\n",
    "print(len(all_ones))"
   ]
  },
  {
   "cell_type": "code",
   "execution_count": 43,
   "metadata": {
    "collapsed": false
   },
   "outputs": [
    {
     "name": "stdout",
     "output_type": "stream",
     "text": [
      "1935\n"
     ]
    }
   ],
   "source": [
    "all_smalls = [x for x in all_pbs if x[2] == .1]\n",
    "print(len(all_smalls))"
   ]
  },
  {
   "cell_type": "code",
   "execution_count": null,
   "metadata": {
    "collapsed": true
   },
   "outputs": [],
   "source": []
  }
 ],
 "metadata": {
  "kernelspec": {
   "display_name": "Python 3",
   "language": "python",
   "name": "python3"
  },
  "language_info": {
   "codemirror_mode": {
    "name": "ipython",
    "version": 3
   },
   "file_extension": ".py",
   "mimetype": "text/x-python",
   "name": "python",
   "nbconvert_exporter": "python",
   "pygments_lexer": "ipython3",
   "version": "3.6.0"
  }
 },
 "nbformat": 4,
 "nbformat_minor": 1
}
